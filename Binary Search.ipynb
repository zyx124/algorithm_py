{
 "cells": [
  {
   "cell_type": "markdown",
   "metadata": {},
   "source": [
    "# Binary Search \n",
    "\n",
    "Binary search is a way to search an element in an array list. For a given list, such as [1, 2, 4, 3, 5, 7], if we want to find certain element, 7, for example in a list, the most intuitive way to do so is to traverse the entire list, which takes $O(n)$. Binary search provides a more efficient way to find certain element, in which we sort the list first, then we compare the element in the middle of the list and the target. Use this way repeatedly until we find the target in the list, or we can claim that there is not such an value in the list.\n",
    "\n",
    "\n",
    "\n",
    "\n",
    "\n",
    "\n"
   ]
  },
  {
   "cell_type": "markdown",
   "metadata": {},
   "source": [
    "This way is an optimization of the method of traversaling all the element because it excludes half of the elements in the array, which we do not need to consider any more. We need to insure the list is sorted if it is not, however. The sorting will take $O(nlogn)$. Since we cut the list in half every time, it shrinks in a $log$ manner. The binary search will take $O(logn)$."
   ]
  },
  {
   "cell_type": "markdown",
   "metadata": {},
   "source": [
    "Binary search usually takes these steps:\n",
    "\n",
    "- Sort the array if it is not sorted.\n",
    "- Find the middle value of the list.\n",
    "- Compare the mid value and the target and shrink the bound.\n",
    "- Get the answer\n"
   ]
  },
  {
   "cell_type": "markdown",
   "metadata": {},
   "source": [
    "Let's solve a sample problem to see how it works.\n",
    "\n",
    "P1: Find a target value in a **sorted** array list, if it exists, return True. If not, return False.\n",
    "\n"
   ]
  },
  {
   "cell_type": "code",
   "execution_count": 5,
   "metadata": {},
   "outputs": [],
   "source": [
    "def binary_search(array, target):\n",
    "    \"\"\"\n",
    "    array: a sorted 1D list consists of integers.\n",
    "    target: an interger\n",
    "    return: index of the element in the array\n",
    "    \"\"\"\n",
    "    start, end = 0, len(array) - 1\n",
    "    while start + 1 < end:\n",
    "        mid = start + (end - start) // 2\n",
    "        if target > array[mid]:\n",
    "            start = mid\n",
    "        else:\n",
    "            end = mid\n",
    "    if array[start] == target:\n",
    "        return start \n",
    "    if array[end] == target:\n",
    "        return end\n",
    "    return -1\n",
    "    \n",
    "    "
   ]
  },
  {
   "cell_type": "code",
   "execution_count": 6,
   "metadata": {},
   "outputs": [
    {
     "data": {
      "text/plain": [
       "4"
      ]
     },
     "execution_count": 6,
     "metadata": {},
     "output_type": "execute_result"
    }
   ],
   "source": [
    "array = [1, 2, 3, 4, 5, 6, 7]\n",
    "target = 5\n",
    "binary_search(array, target)"
   ]
  },
  {
   "cell_type": "markdown",
   "metadata": {},
   "source": [
    "Here are some points which need to be noticed. When using while loop, we have to make sure it can end instead of going infinitely. Another trick I use here is \n",
    "```\n",
    "mid = start + (end -  start) // 2\n",
    "```\n",
    "\n",
    "Usually we can use ```(start + end) // 2``` when start and end index are small. If they are large, the expression may cause overflow.\n",
    "\n",
    "Another thing that may cause bugs is the loop condition. If the condition is ```while start < end:```, it will never jump out of the loop."
   ]
  },
  {
   "cell_type": "markdown",
   "metadata": {},
   "source": [
    "Let's think about this case: what if there are repetitive elements. We may desire the first element or the last element among the repetitive ones. The condition needs to be modified to get what we want. Basically, there are three conditions that need to be considered: the middle element larger than, smaller than or equal to the target. Consider all these three cases and then combine them.\n"
   ]
  },
  {
   "cell_type": "code",
   "execution_count": 2,
   "metadata": {},
   "outputs": [],
   "source": [
    "# Return the index of the first index of the element that equals the target\n",
    "def binary_search_first(array, target):\n",
    "    if not array:\n",
    "        return -1\n",
    "    start, end = 0, len(array) - 1\n",
    "    while start + 1 < end:\n",
    "        mid = start + (end -  start) // 2\n",
    "        if array[mid] < target:\n",
    "            start = mid\n",
    "        else:\n",
    "            end = mid\n",
    "    if array[start] == target:\n",
    "        return start\n",
    "    if array[end] == target:\n",
    "        return end\n",
    "    return -1\n"
   ]
  },
  {
   "cell_type": "code",
   "execution_count": 3,
   "metadata": {},
   "outputs": [
    {
     "data": {
      "text/plain": [
       "1"
      ]
     },
     "execution_count": 3,
     "metadata": {},
     "output_type": "execute_result"
    }
   ],
   "source": [
    "array = [1, 2, 2, 2, 3, 4, 5]\n",
    "target = 2\n",
    "binary_search_first(array, target)"
   ]
  },
  {
   "cell_type": "code",
   "execution_count": 4,
   "metadata": {},
   "outputs": [],
   "source": [
    "# Return the index of the last index of the element that equals the target\n",
    "def binary_search_last(array, target):\n",
    "    if not array:\n",
    "        return -1\n",
    "    start, end = 0, len(array) - 1\n",
    "    while start + 1 < end:\n",
    "        mid = start + (end -  start) // 2\n",
    "        if array[mid] > target:\n",
    "            end = mid\n",
    "        else:\n",
    "            start = mid\n",
    "    if array[start] == target:\n",
    "        return start\n",
    "    if array[end] == target:\n",
    "        return end\n",
    "    return -1\n"
   ]
  },
  {
   "cell_type": "code",
   "execution_count": 6,
   "metadata": {},
   "outputs": [
    {
     "data": {
      "text/plain": [
       "3"
      ]
     },
     "execution_count": 6,
     "metadata": {},
     "output_type": "execute_result"
    }
   ],
   "source": [
    "array = [1, 2, 2, 2, 3, 4, 5]\n",
    "target = 2\n",
    "binary_search_last(array, target)"
   ]
  },
  {
   "cell_type": "markdown",
   "metadata": {},
   "source": [
    "Typically, the problems related to binary search are not as simple as the example above. Let's take a look at more complex problems."
   ]
  },
  {
   "cell_type": "code",
   "execution_count": null,
   "metadata": {},
   "outputs": [],
   "source": []
  }
 ],
 "metadata": {
  "kernelspec": {
   "display_name": "Python 3",
   "language": "python",
   "name": "python3"
  },
  "language_info": {
   "codemirror_mode": {
    "name": "ipython",
    "version": 3
   },
   "file_extension": ".py",
   "mimetype": "text/x-python",
   "name": "python",
   "nbconvert_exporter": "python",
   "pygments_lexer": "ipython3",
   "version": "3.5.2"
  }
 },
 "nbformat": 4,
 "nbformat_minor": 2
}
