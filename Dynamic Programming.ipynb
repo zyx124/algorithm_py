{
 "cells": [
  {
   "cell_type": "markdown",
   "metadata": {},
   "source": [
    "# Dynamic Programming\n",
    "\n",
    "### What is DP?\n",
    "- Memory search algorithms, i.e. memorize the value of the past steps to avoid repetitive calculations.\n",
    "\n",
    "### When is it possible to use dynamic programming?\n",
    "- find max or min\n",
    "- check validity\n",
    "- find the **number** of all solutions\n",
    "\n",
    "### When not use DP?\n",
    "- find all the spesific solution instead of the total number\n",
    "- input is a set rather than a sequence\n",
    "- brute force complexity is O(n^k)\n",
    "\n",
    "### DP consists of:\n",
    "- state\n",
    "- function\n",
    "- initialization\n",
    "- answer\n",
    "\n",
    "### DP problem:\n",
    "- coordinate: eg. f[x] represents from start to coordinate x\n",
    "- single sequence: eg. f[i] represents first i positions."
   ]
  },
  {
   "cell_type": "markdown",
   "metadata": {},
   "source": [
    "## Let's take a glance of the common types of DP problems\n",
    "\n",
    "### Coordinate\n",
    "\n"
   ]
  },
  {
   "cell_type": "markdown",
   "metadata": {},
   "source": [
    "**Minimum Path Sum**: Given a m x n grid filled with non-negative numbers, find a path from top left to bottom right which minimizes the sum of all numbers along its paths\n",
    "\n",
    "state: grid[i][j] represents the number of paths from start to (i, j) \n",
    "\n",
    "function: grid[x][y] = min(grid[x - 1][y], grid[x][y - 1])\n",
    "\n",
    "initialization: \tgrid[i][0] = 1 \n",
    "\n",
    "answer: grid[m - 1][n - 1]"
   ]
  },
  {
   "cell_type": "code",
   "execution_count": 3,
   "metadata": {},
   "outputs": [],
   "source": [
    "\n",
    "    \n",
    "def minPathSum(grid):\n",
    "    \"\"\"\n",
    "    grid: 2D array\n",
    "    return: maximum path sum from top left to bottom right\n",
    "    \"\"\"\n",
    "    if not grid:\n",
    "        return 0\n",
    "    m, n = len(grid), len(grid[0])\n",
    "    for i in range(m):\n",
    "        for j in range(n):\n",
    "            if i == 0 and j > 0:\n",
    "                grid[i][j] += grid[i][j - 1]\n",
    "            if j == 0 and i > 0:\n",
    "                grid[i][j] += grid[i - 1][j]\n",
    "            elif j > 0 and i > 0:\n",
    "                grid[i][j] += min(grid[i - 1][j], grid[i][j - 1])\n",
    "\n",
    "    return grid[m - 1][n - 1]"
   ]
  },
  {
   "cell_type": "code",
   "execution_count": 4,
   "metadata": {},
   "outputs": [
    {
     "data": {
      "text/plain": [
       "7"
      ]
     },
     "execution_count": 4,
     "metadata": {},
     "output_type": "execute_result"
    }
   ],
   "source": [
    "grid = [[1,3,1],[1,5,1],[4,2,1]]\n",
    "minPathSum(grid)"
   ]
  },
  {
   "cell_type": "markdown",
   "metadata": {},
   "source": [
    "**Climbing Stairs** : Each time you can either climb 1 or 2 steps. In how many distinct ways can you climb to the top?\n"
   ]
  },
  {
   "cell_type": "code",
   "execution_count": 1,
   "metadata": {},
   "outputs": [],
   "source": [
    "def climb(self, n):\n",
    "\t\tif n == 0:\n",
    "\t\t\treturn 0\n",
    "\t\tif n == 1:\n",
    "\t\t\treturn 1\n",
    "\t\tif n == 2:\n",
    "\t\t\treturn 2\n",
    "\t\tresult = [1, 2]\n",
    "\t\tfor i in range(n - 2):\n",
    "\t\t\tresult.append(result[-2] + result[-1])\n",
    "\t\treturn result[-1]"
   ]
  },
  {
   "cell_type": "markdown",
   "metadata": {},
   "source": [
    "### Sequence"
   ]
  },
  {
   "cell_type": "code",
   "execution_count": 5,
   "metadata": {},
   "outputs": [],
   "source": []
  },
  {
   "cell_type": "markdown",
   "metadata": {},
   "source": [
    "### Examples\n",
    "\n",
    "\n",
    "**Maximum subarray**: Given an integer array nums, find the contiguous subarray (containing at least one number) which has the largest sum and return its sum.\n",
    "\n",
    "Sample input and output:\n",
    "Input: [-2,1,-3,4,-1,2,1,-5,4],\n",
    "Output: 6\n",
    "\n",
    "We use a matrix to track the status. The $i$th element of the matrix is the sum of the maximum subarray including nums\\[i\\] up to the $i$th element. "
   ]
  },
  {
   "cell_type": "code",
   "execution_count": null,
   "metadata": {},
   "outputs": [],
   "source": [
    "def maxSubArray(self, nums: List[int]) -> int:\n",
    "    dp = [0] * len(nums)\n",
    "    dp[0] = nums[0]\n",
    "    for i in range(1, len(nums)):\n",
    "        dp[i] = max(nums[i], dp[i - 1] + nums[i])\n",
    "\n",
    "    return max(dp)"
   ]
  },
  {
   "cell_type": "markdown",
   "metadata": {},
   "source": [
    "Alternatively, we can just use prefix sum to optimize the space. In this case, we just need to track the smallest sum and the lartest sum with every time add an element to the total sum."
   ]
  },
  {
   "cell_type": "code",
   "execution_count": 5,
   "metadata": {},
   "outputs": [],
   "source": [
    "import sys\n",
    "def maxSubArray(nums):\n",
    "    \"\"\"\n",
    "    :type nums: List[int]\n",
    "    :rtype: int\n",
    "    \"\"\"\n",
    "    min_sum, max_sum = 0, -sys.maxsize\n",
    "    prefix = 0\n",
    "    for n in nums:\n",
    "        prefix += n\n",
    "        max_sum = max(max_sum, prefix - min_sum)\n",
    "        min_sum = min(min_sum, prefix)\n",
    "\n",
    "    return max_sum\n"
   ]
  },
  {
   "cell_type": "code",
   "execution_count": 6,
   "metadata": {},
   "outputs": [
    {
     "data": {
      "text/plain": [
       "6"
      ]
     },
     "execution_count": 6,
     "metadata": {},
     "output_type": "execute_result"
    }
   ],
   "source": [
    "nums = [-2,1,-3,4,-1,2,1,-5,4]\n",
    "maxSubArray(nums)"
   ]
  },
  {
   "cell_type": "code",
   "execution_count": 14,
   "metadata": {},
   "outputs": [],
   "source": [
    "for i in range(1,  -2):\n",
    "    print(i)"
   ]
  },
  {
   "cell_type": "markdown",
   "metadata": {},
   "source": [
    "**Word Break:** Given a string s and a dictionary of word dict, determine if s can be break into a space-separated sequence of one or more dictionary words. We can assume the word dict and the the string are both nonempty.\n",
    "\n",
    "state: state[i] represents first i letters can break or not\n",
    "\n",
    "function: 1 < j < i, if state[i - j] is valid and s[i - j:i] in the dict, then state[i] is valid\n",
    "\n",
    "initialization: when there is not str, return True, thus state[0] == True\n",
    "\n",
    "result: state[-1]"
   ]
  },
  {
   "cell_type": "code",
   "execution_count": 33,
   "metadata": {},
   "outputs": [],
   "source": [
    "def word_break(s, wordDict):\n",
    "    state = [True] + [False] * len(s)\n",
    "    max_len = max([len(i) for i in wordDict])\n",
    "    for i in range(1, len(s) + 1):\n",
    "        for j in range(1, min(max_len, i) + 1):\n",
    "            if not state[i - j]:\n",
    "                continue\n",
    "            if s[i - j:i] in wordDict:\n",
    "                state[i] = True\n",
    "                break\n",
    "    return state[-1]\n",
    "\n",
    "   "
   ]
  },
  {
   "cell_type": "code",
   "execution_count": 34,
   "metadata": {},
   "outputs": [
    {
     "data": {
      "text/plain": [
       "True"
      ]
     },
     "execution_count": 34,
     "metadata": {},
     "output_type": "execute_result"
    }
   ],
   "source": [
    "s = \"leetcode\"\n",
    "wordDict = [\"leet\", \"code\"]\n",
    "word_break(s, wordDict)"
   ]
  },
  {
   "cell_type": "markdown",
   "metadata": {},
   "source": [
    "**Check Palindrome**: check a given string is a palindrome or not.\n",
    "\n",
    "\n",
    "state: f[i][j] represents from ith to jth position of the string is a palindrome or not.\n",
    "\n",
    "function: f[i + 1][j - 1] == True AND s[i] == s[j]\n",
    "\n",
    "initialization: f[i][i] == True\n",
    "\n",
    "result: f[x][y] represents the result of the string from xth to yth.\n",
    "\n",
    "**Comment:** This dp method is obvious not the best solution for this problem. Using two pointers from start and end of the string will only take O(n) instead of O(\n",
    "\n"
   ]
  },
  {
   "cell_type": "code",
   "execution_count": 58,
   "metadata": {},
   "outputs": [],
   "source": [
    "def is_palindrome(string):\n",
    "    n = len(string)\n",
    "    dp = [[False] * n for i in range(n)]\n",
    "    for i in reversed(range(n)):\n",
    "        for j in range(i, n):\n",
    "            if string[i] == string[j] and (j - i < 2 or dp[i + 1][j - 1]):\n",
    "                dp[i][j] = True\n",
    "    \n",
    "    return dp[0][n - 1]"
   ]
  },
  {
   "cell_type": "code",
   "execution_count": 59,
   "metadata": {},
   "outputs": [
    {
     "name": "stdout",
     "output_type": "stream",
     "text": [
      "[[True, False, False, False, True], [False, True, False, True, False], [False, False, True, False, False], [False, False, False, True, False], [False, False, False, False, True]]\n"
     ]
    },
    {
     "data": {
      "text/plain": [
       "True"
      ]
     },
     "execution_count": 59,
     "metadata": {},
     "output_type": "execute_result"
    }
   ],
   "source": [
    "string = \"abcba\"\n",
    "is_palindrome(string)"
   ]
  }
 ],
 "metadata": {
  "kernelspec": {
   "display_name": "Python 3",
   "language": "python",
   "name": "python3"
  },
  "language_info": {
   "codemirror_mode": {
    "name": "ipython",
    "version": 3
   },
   "file_extension": ".py",
   "mimetype": "text/x-python",
   "name": "python",
   "nbconvert_exporter": "python",
   "pygments_lexer": "ipython3",
   "version": "3.5.2"
  }
 },
 "nbformat": 4,
 "nbformat_minor": 2
}
